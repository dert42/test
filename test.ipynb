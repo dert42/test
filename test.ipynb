{
  "nbformat": 4,
  "nbformat_minor": 0,
  "metadata": {
    "colab": {
      "provenance": []
    },
    "kernelspec": {
      "name": "python3",
      "display_name": "Python 3"
    },
    "language_info": {
      "name": "python"
    }
  },
  "cells": [
    {
      "cell_type": "markdown",
      "source": [
        "Задание 1\n",
        "(a)"
      ],
      "metadata": {
        "id": "qqU-X6ios1jI"
      }
    },
    {
      "cell_type": "code",
      "execution_count": 36,
      "metadata": {
        "colab": {
          "base_uri": "https://localhost:8080/",
          "height": 648
        },
        "id": "kjsRCJGpswUo",
        "outputId": "7e6a0303-1948-48aa-b3f6-f8a41281e08e"
      },
      "outputs": [
        {
          "output_type": "execute_result",
          "data": {
            "text/plain": [
              "Sub-Category\n",
              "Copiers        1.542749e+06\n",
              "Machines       2.537081e+06\n",
              "Supplies       4.195303e+06\n",
              "Fasteners      4.739453e+06\n",
              "Bookcases      5.353206e+06\n",
              "Envelopes      5.805653e+06\n",
              "Tables         6.990043e+06\n",
              "Labels         8.468587e+06\n",
              "Appliances     1.036418e+07\n",
              "Chairs         1.412568e+07\n",
              "Accessories    1.727495e+07\n",
              "Art            1.783246e+07\n",
              "Storage        1.889280e+07\n",
              "Phones         2.034327e+07\n",
              "Furnishings    2.156507e+07\n",
              "Paper          3.069077e+07\n",
              "Binders        3.391197e+07\n",
              "Name: Sales, dtype: float64"
            ],
            "text/html": [
              "<div>\n",
              "<style scoped>\n",
              "    .dataframe tbody tr th:only-of-type {\n",
              "        vertical-align: middle;\n",
              "    }\n",
              "\n",
              "    .dataframe tbody tr th {\n",
              "        vertical-align: top;\n",
              "    }\n",
              "\n",
              "    .dataframe thead th {\n",
              "        text-align: right;\n",
              "    }\n",
              "</style>\n",
              "<table border=\"1\" class=\"dataframe\">\n",
              "  <thead>\n",
              "    <tr style=\"text-align: right;\">\n",
              "      <th></th>\n",
              "      <th>Sales</th>\n",
              "    </tr>\n",
              "    <tr>\n",
              "      <th>Sub-Category</th>\n",
              "      <th></th>\n",
              "    </tr>\n",
              "  </thead>\n",
              "  <tbody>\n",
              "    <tr>\n",
              "      <th>Copiers</th>\n",
              "      <td>1.542749e+06</td>\n",
              "    </tr>\n",
              "    <tr>\n",
              "      <th>Machines</th>\n",
              "      <td>2.537081e+06</td>\n",
              "    </tr>\n",
              "    <tr>\n",
              "      <th>Supplies</th>\n",
              "      <td>4.195303e+06</td>\n",
              "    </tr>\n",
              "    <tr>\n",
              "      <th>Fasteners</th>\n",
              "      <td>4.739453e+06</td>\n",
              "    </tr>\n",
              "    <tr>\n",
              "      <th>Bookcases</th>\n",
              "      <td>5.353206e+06</td>\n",
              "    </tr>\n",
              "    <tr>\n",
              "      <th>Envelopes</th>\n",
              "      <td>5.805653e+06</td>\n",
              "    </tr>\n",
              "    <tr>\n",
              "      <th>Tables</th>\n",
              "      <td>6.990043e+06</td>\n",
              "    </tr>\n",
              "    <tr>\n",
              "      <th>Labels</th>\n",
              "      <td>8.468587e+06</td>\n",
              "    </tr>\n",
              "    <tr>\n",
              "      <th>Appliances</th>\n",
              "      <td>1.036418e+07</td>\n",
              "    </tr>\n",
              "    <tr>\n",
              "      <th>Chairs</th>\n",
              "      <td>1.412568e+07</td>\n",
              "    </tr>\n",
              "    <tr>\n",
              "      <th>Accessories</th>\n",
              "      <td>1.727495e+07</td>\n",
              "    </tr>\n",
              "    <tr>\n",
              "      <th>Art</th>\n",
              "      <td>1.783246e+07</td>\n",
              "    </tr>\n",
              "    <tr>\n",
              "      <th>Storage</th>\n",
              "      <td>1.889280e+07</td>\n",
              "    </tr>\n",
              "    <tr>\n",
              "      <th>Phones</th>\n",
              "      <td>2.034327e+07</td>\n",
              "    </tr>\n",
              "    <tr>\n",
              "      <th>Furnishings</th>\n",
              "      <td>2.156507e+07</td>\n",
              "    </tr>\n",
              "    <tr>\n",
              "      <th>Paper</th>\n",
              "      <td>3.069077e+07</td>\n",
              "    </tr>\n",
              "    <tr>\n",
              "      <th>Binders</th>\n",
              "      <td>3.391197e+07</td>\n",
              "    </tr>\n",
              "  </tbody>\n",
              "</table>\n",
              "</div><br><label><b>dtype:</b> float64</label>"
            ]
          },
          "metadata": {},
          "execution_count": 36
        }
      ],
      "source": [
        "import pandas as pd\n",
        "data = pd.read_excel('train.xlsx')\n",
        "Sub_category_alltime = data.groupby('Sub-Category')['Sales'].sum()\n",
        "Sub_category_alltime.sort_values()"
      ]
    },
    {
      "cell_type": "markdown",
      "source": [
        "Наиболее часто покупаемыми группами за все время продаж являются: Binders, Paper, Furnishings,\tPhones\n",
        "\n",
        "\n"
      ],
      "metadata": {
        "id": "qaaztCyawNMy"
      }
    },
    {
      "cell_type": "markdown",
      "source": [
        "Задание 1\n",
        "(б)\n"
      ],
      "metadata": {
        "id": "M-nFN7Op063P"
      }
    },
    {
      "cell_type": "code",
      "source": [
        "data['Order Date'] = pd.to_datetime(data['Order Date'] )\n",
        "last_day = pd.to_datetime('2018-12-30')\n",
        "two_yers_ago = last_day - pd.DateOffset(years=2)\n",
        "Sub_category_2_years_ago = data[data['Order Date'] >= two_yers_ago]\n",
        "Sub_category_2_years_ago\n",
        "Sub_category_2_years_ago = Sub_category_2_years_ago.groupby('Sub-Category')['Sales'].sum()\n",
        "Sub_category_2_years_ago.sort_values()\n"
      ],
      "metadata": {
        "colab": {
          "base_uri": "https://localhost:8080/",
          "height": 648
        },
        "id": "JWACWZe91AiF",
        "outputId": "95f57136-2b87-49e2-d265-75f026123a9e"
      },
      "execution_count": 41,
      "outputs": [
        {
          "output_type": "execute_result",
          "data": {
            "text/plain": [
              "Sub-Category\n",
              "Copiers        8.434740e+05\n",
              "Machines       1.453513e+06\n",
              "Fasteners      2.706676e+06\n",
              "Supplies       2.757099e+06\n",
              "Bookcases      3.018299e+06\n",
              "Envelopes      3.130658e+06\n",
              "Tables         4.146186e+06\n",
              "Labels         5.213706e+06\n",
              "Appliances     6.088008e+06\n",
              "Chairs         8.134456e+06\n",
              "Art            1.025160e+07\n",
              "Accessories    1.025310e+07\n",
              "Storage        1.133849e+07\n",
              "Phones         1.203552e+07\n",
              "Furnishings    1.261281e+07\n",
              "Paper          1.913968e+07\n",
              "Binders        2.047156e+07\n",
              "Name: Sales, dtype: float64"
            ],
            "text/html": [
              "<div>\n",
              "<style scoped>\n",
              "    .dataframe tbody tr th:only-of-type {\n",
              "        vertical-align: middle;\n",
              "    }\n",
              "\n",
              "    .dataframe tbody tr th {\n",
              "        vertical-align: top;\n",
              "    }\n",
              "\n",
              "    .dataframe thead th {\n",
              "        text-align: right;\n",
              "    }\n",
              "</style>\n",
              "<table border=\"1\" class=\"dataframe\">\n",
              "  <thead>\n",
              "    <tr style=\"text-align: right;\">\n",
              "      <th></th>\n",
              "      <th>Sales</th>\n",
              "    </tr>\n",
              "    <tr>\n",
              "      <th>Sub-Category</th>\n",
              "      <th></th>\n",
              "    </tr>\n",
              "  </thead>\n",
              "  <tbody>\n",
              "    <tr>\n",
              "      <th>Copiers</th>\n",
              "      <td>8.434740e+05</td>\n",
              "    </tr>\n",
              "    <tr>\n",
              "      <th>Machines</th>\n",
              "      <td>1.453513e+06</td>\n",
              "    </tr>\n",
              "    <tr>\n",
              "      <th>Fasteners</th>\n",
              "      <td>2.706676e+06</td>\n",
              "    </tr>\n",
              "    <tr>\n",
              "      <th>Supplies</th>\n",
              "      <td>2.757099e+06</td>\n",
              "    </tr>\n",
              "    <tr>\n",
              "      <th>Bookcases</th>\n",
              "      <td>3.018299e+06</td>\n",
              "    </tr>\n",
              "    <tr>\n",
              "      <th>Envelopes</th>\n",
              "      <td>3.130658e+06</td>\n",
              "    </tr>\n",
              "    <tr>\n",
              "      <th>Tables</th>\n",
              "      <td>4.146186e+06</td>\n",
              "    </tr>\n",
              "    <tr>\n",
              "      <th>Labels</th>\n",
              "      <td>5.213706e+06</td>\n",
              "    </tr>\n",
              "    <tr>\n",
              "      <th>Appliances</th>\n",
              "      <td>6.088008e+06</td>\n",
              "    </tr>\n",
              "    <tr>\n",
              "      <th>Chairs</th>\n",
              "      <td>8.134456e+06</td>\n",
              "    </tr>\n",
              "    <tr>\n",
              "      <th>Art</th>\n",
              "      <td>1.025160e+07</td>\n",
              "    </tr>\n",
              "    <tr>\n",
              "      <th>Accessories</th>\n",
              "      <td>1.025310e+07</td>\n",
              "    </tr>\n",
              "    <tr>\n",
              "      <th>Storage</th>\n",
              "      <td>1.133849e+07</td>\n",
              "    </tr>\n",
              "    <tr>\n",
              "      <th>Phones</th>\n",
              "      <td>1.203552e+07</td>\n",
              "    </tr>\n",
              "    <tr>\n",
              "      <th>Furnishings</th>\n",
              "      <td>1.261281e+07</td>\n",
              "    </tr>\n",
              "    <tr>\n",
              "      <th>Paper</th>\n",
              "      <td>1.913968e+07</td>\n",
              "    </tr>\n",
              "    <tr>\n",
              "      <th>Binders</th>\n",
              "      <td>2.047156e+07</td>\n",
              "    </tr>\n",
              "  </tbody>\n",
              "</table>\n",
              "</div><br><label><b>dtype:</b> float64</label>"
            ]
          },
          "metadata": {},
          "execution_count": 41
        }
      ]
    },
    {
      "cell_type": "markdown",
      "source": [
        "Наиболее часто покупаемыми группами за 2 последних года являются: Binders, Paper, Furnishings, Phones"
      ],
      "metadata": {
        "id": "hPQgeJSs3Lzd"
      }
    },
    {
      "cell_type": "markdown",
      "source": [
        "Задание 1\n",
        "(в)\n"
      ],
      "metadata": {
        "id": "Rd13snOu3rWr"
      }
    },
    {
      "cell_type": "code",
      "source": [
        "last_day = pd.to_datetime('2018-12-30')\n",
        "two_yers_ago = last_day - pd.DateOffset(years=1)\n",
        "Sub_category_1_years_ago = data[data['Order Date'] >= two_yers_ago]\n",
        "Sub_category_1_years_ago\n",
        "Sub_category_1_years_ago = Sub_category_1_years_ago.groupby('Sub-Category')['Sales'].sum()\n",
        "Sub_category_1_years_ago.sort_values()"
      ],
      "metadata": {
        "colab": {
          "base_uri": "https://localhost:8080/",
          "height": 648
        },
        "id": "6snDiRp53weM",
        "outputId": "f9fd7b68-8f7c-4c5b-c8d9-d52c9fccc417"
      },
      "execution_count": 42,
      "outputs": [
        {
          "output_type": "execute_result",
          "data": {
            "text/plain": [
              "Sub-Category\n",
              "Copiers        4.702610e+05\n",
              "Machines       7.066891e+05\n",
              "Fasteners      1.376410e+06\n",
              "Supplies       1.377255e+06\n",
              "Envelopes      1.548950e+06\n",
              "Bookcases      1.751299e+06\n",
              "Tables         2.194717e+06\n",
              "Labels         2.841798e+06\n",
              "Appliances     3.486188e+06\n",
              "Chairs         4.388887e+06\n",
              "Accessories    5.943291e+06\n",
              "Art            6.203634e+06\n",
              "Storage        6.324807e+06\n",
              "Phones         6.771745e+06\n",
              "Furnishings    7.317576e+06\n",
              "Paper          1.068176e+07\n",
              "Binders        1.151643e+07\n",
              "Name: Sales, dtype: float64"
            ],
            "text/html": [
              "<div>\n",
              "<style scoped>\n",
              "    .dataframe tbody tr th:only-of-type {\n",
              "        vertical-align: middle;\n",
              "    }\n",
              "\n",
              "    .dataframe tbody tr th {\n",
              "        vertical-align: top;\n",
              "    }\n",
              "\n",
              "    .dataframe thead th {\n",
              "        text-align: right;\n",
              "    }\n",
              "</style>\n",
              "<table border=\"1\" class=\"dataframe\">\n",
              "  <thead>\n",
              "    <tr style=\"text-align: right;\">\n",
              "      <th></th>\n",
              "      <th>Sales</th>\n",
              "    </tr>\n",
              "    <tr>\n",
              "      <th>Sub-Category</th>\n",
              "      <th></th>\n",
              "    </tr>\n",
              "  </thead>\n",
              "  <tbody>\n",
              "    <tr>\n",
              "      <th>Copiers</th>\n",
              "      <td>4.702610e+05</td>\n",
              "    </tr>\n",
              "    <tr>\n",
              "      <th>Machines</th>\n",
              "      <td>7.066891e+05</td>\n",
              "    </tr>\n",
              "    <tr>\n",
              "      <th>Fasteners</th>\n",
              "      <td>1.376410e+06</td>\n",
              "    </tr>\n",
              "    <tr>\n",
              "      <th>Supplies</th>\n",
              "      <td>1.377255e+06</td>\n",
              "    </tr>\n",
              "    <tr>\n",
              "      <th>Envelopes</th>\n",
              "      <td>1.548950e+06</td>\n",
              "    </tr>\n",
              "    <tr>\n",
              "      <th>Bookcases</th>\n",
              "      <td>1.751299e+06</td>\n",
              "    </tr>\n",
              "    <tr>\n",
              "      <th>Tables</th>\n",
              "      <td>2.194717e+06</td>\n",
              "    </tr>\n",
              "    <tr>\n",
              "      <th>Labels</th>\n",
              "      <td>2.841798e+06</td>\n",
              "    </tr>\n",
              "    <tr>\n",
              "      <th>Appliances</th>\n",
              "      <td>3.486188e+06</td>\n",
              "    </tr>\n",
              "    <tr>\n",
              "      <th>Chairs</th>\n",
              "      <td>4.388887e+06</td>\n",
              "    </tr>\n",
              "    <tr>\n",
              "      <th>Accessories</th>\n",
              "      <td>5.943291e+06</td>\n",
              "    </tr>\n",
              "    <tr>\n",
              "      <th>Art</th>\n",
              "      <td>6.203634e+06</td>\n",
              "    </tr>\n",
              "    <tr>\n",
              "      <th>Storage</th>\n",
              "      <td>6.324807e+06</td>\n",
              "    </tr>\n",
              "    <tr>\n",
              "      <th>Phones</th>\n",
              "      <td>6.771745e+06</td>\n",
              "    </tr>\n",
              "    <tr>\n",
              "      <th>Furnishings</th>\n",
              "      <td>7.317576e+06</td>\n",
              "    </tr>\n",
              "    <tr>\n",
              "      <th>Paper</th>\n",
              "      <td>1.068176e+07</td>\n",
              "    </tr>\n",
              "    <tr>\n",
              "      <th>Binders</th>\n",
              "      <td>1.151643e+07</td>\n",
              "    </tr>\n",
              "  </tbody>\n",
              "</table>\n",
              "</div><br><label><b>dtype:</b> float64</label>"
            ]
          },
          "metadata": {},
          "execution_count": 42
        }
      ]
    },
    {
      "cell_type": "markdown",
      "source": [
        "Наиболее часто покупаемыми группами за последний год являются: Binders, Paper, Furnishings, Phones"
      ],
      "metadata": {
        "id": "NS5TnccN4N5t"
      }
    },
    {
      "cell_type": "markdown",
      "source": [
        "Вывод: На протяжении нескольких лет наиболее покупаемыми категориями товаров отсаются Binders, Paper, Furnishings, Phones, следовательно данные категории обладают наиболее стабильным спросом, по сравнению с остальными."
      ],
      "metadata": {
        "id": "oEJ0UQn54Rpt"
      }
    },
    {
      "cell_type": "markdown",
      "source": [
        "Задание 2"
      ],
      "metadata": {
        "id": "27FrlCBC59TG"
      }
    },
    {
      "cell_type": "code",
      "source": [
        "import matplotlib.pyplot as plt\n",
        "sales = data['Sales']\n",
        "\n",
        "mean = sales.mean()\n",
        "std = sales.std()\n",
        "\n",
        "lower_limit = mean - 3 * std\n",
        "upper_limit = mean + 3 * std\n",
        "\n",
        "sales_no_anomalies = sales[(sales >= lower_limit) & (sales <= upper_limit)]\n",
        "\n",
        "plt.boxplot(sales_no_anomalies)\n",
        "plt.title('boxplot («Ящик с усами») на основе продаж (Sales)')\n",
        "plt.ylabel('Sales')\n",
        "plt.show()"
      ],
      "metadata": {
        "colab": {
          "base_uri": "https://localhost:8080/",
          "height": 469
        },
        "id": "opOdtbGb5_SO",
        "outputId": "e5890a8e-d75a-486a-feb6-d58e5bb94e60"
      },
      "execution_count": 57,
      "outputs": [
        {
          "output_type": "stream",
          "name": "stdout",
          "text": [
            "60727.757182262445\n"
          ]
        },
        {
          "output_type": "display_data",
          "data": {
            "text/plain": [
              "<Figure size 640x480 with 1 Axes>"
            ],
            "image/png": "[encoded data removed]"
          },
          "metadata": {}
        }
      ]
    },
    {
      "cell_type": "markdown",
      "source": [
        "Задание 3"
      ],
      "metadata": {
        "id": "SD_52EEG-4Iz"
      }
    },
    {
      "cell_type": "code",
      "source": [
        "data['Sale_group'] = pd.cut(data['Sales'], bins = 3, labels=['маленькие продажи', 'средние продажи', 'высокие продажи'])\n",
        "data[['Region', 'Sale_group']]\n",
        "data[['Region', 'Sale_group']].groupby('Region').value_counts()"
      ],
      "metadata": {
        "colab": {
          "base_uri": "https://localhost:8080/",
          "height": 491
        },
        "id": "GtbIh3e9--jL",
        "outputId": "bc870b87-1c27-4277-fa84-3318984079d3"
      },
      "execution_count": 68,
      "outputs": [
        {
          "output_type": "execute_result",
          "data": {
            "text/plain": [
              "Region       Sale_group       \n",
              "Владивосток  маленькие продажи     947\n",
              "             высокие продажи       944\n",
              "             средние продажи       894\n",
              "Калиниград   средние продажи      1110\n",
              "             маленькие продажи    1039\n",
              "             высокие продажи       991\n",
              "Москва       средние продажи       548\n",
              "             высокие продажи       530\n",
              "             маленькие продажи     520\n",
              "Урал         маленькие продажи     767\n",
              "             средние продажи       766\n",
              "             высокие продажи       744\n",
              "Name: count, dtype: int64"
            ],
            "text/html": [
              "<div>\n",
              "<style scoped>\n",
              "    .dataframe tbody tr th:only-of-type {\n",
              "        vertical-align: middle;\n",
              "    }\n",
              "\n",
              "    .dataframe tbody tr th {\n",
              "        vertical-align: top;\n",
              "    }\n",
              "\n",
              "    .dataframe thead th {\n",
              "        text-align: right;\n",
              "    }\n",
              "</style>\n",
              "<table border=\"1\" class=\"dataframe\">\n",
              "  <thead>\n",
              "    <tr style=\"text-align: right;\">\n",
              "      <th></th>\n",
              "      <th></th>\n",
              "      <th>count</th>\n",
              "    </tr>\n",
              "    <tr>\n",
              "      <th>Region</th>\n",
              "      <th>Sale_group</th>\n",
              "      <th></th>\n",
              "    </tr>\n",
              "  </thead>\n",
              "  <tbody>\n",
              "    <tr>\n",
              "      <th rowspan=\"3\" valign=\"top\">Владивосток</th>\n",
              "      <th>маленькие продажи</th>\n",
              "      <td>947</td>\n",
              "    </tr>\n",
              "    <tr>\n",
              "      <th>высокие продажи</th>\n",
              "      <td>944</td>\n",
              "    </tr>\n",
              "    <tr>\n",
              "      <th>средние продажи</th>\n",
              "      <td>894</td>\n",
              "    </tr>\n",
              "    <tr>\n",
              "      <th rowspan=\"3\" valign=\"top\">Калиниград</th>\n",
              "      <th>средние продажи</th>\n",
              "      <td>1110</td>\n",
              "    </tr>\n",
              "    <tr>\n",
              "      <th>маленькие продажи</th>\n",
              "      <td>1039</td>\n",
              "    </tr>\n",
              "    <tr>\n",
              "      <th>высокие продажи</th>\n",
              "      <td>991</td>\n",
              "    </tr>\n",
              "    <tr>\n",
              "      <th rowspan=\"3\" valign=\"top\">Москва</th>\n",
              "      <th>средние продажи</th>\n",
              "      <td>548</td>\n",
              "    </tr>\n",
              "    <tr>\n",
              "      <th>высокие продажи</th>\n",
              "      <td>530</td>\n",
              "    </tr>\n",
              "    <tr>\n",
              "      <th>маленькие продажи</th>\n",
              "      <td>520</td>\n",
              "    </tr>\n",
              "    <tr>\n",
              "      <th rowspan=\"3\" valign=\"top\">Урал</th>\n",
              "      <th>маленькие продажи</th>\n",
              "      <td>767</td>\n",
              "    </tr>\n",
              "    <tr>\n",
              "      <th>средние продажи</th>\n",
              "      <td>766</td>\n",
              "    </tr>\n",
              "    <tr>\n",
              "      <th>высокие продажи</th>\n",
              "      <td>744</td>\n",
              "    </tr>\n",
              "  </tbody>\n",
              "</table>\n",
              "</div><br><label><b>dtype:</b> int64</label>"
            ]
          },
          "metadata": {},
          "execution_count": 68
        }
      ]
    },
    {
      "cell_type": "markdown",
      "source": [
        "Наибольшее количество высоких продаж произведено в регионах: Калининград и Владивосток.\n",
        "\n",
        "Наименьшее количество высоких продаж произведено в регионе Москва.\n",
        "\n",
        "В регионах: Владивосток, Калининград, Урал, - незначительнот преобладают маленькие продажи. В регионе Москва незначительно преобладают средние продажи.\n",
        "\n",
        "Наиболее прибыльной группой является группа 'высокие продажи' в регионе Калининград.\n",
        "\n",
        "\n"
      ],
      "metadata": {
        "id": "7lvM7YjSCkK_"
      }
    }
  ]
}